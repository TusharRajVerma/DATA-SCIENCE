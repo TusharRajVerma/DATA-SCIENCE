{
 "cells": [
  {
   "cell_type": "code",
   "execution_count": 2,
   "metadata": {},
   "outputs": [],
   "source": [
    "import pandas as pd\n",
    "import matplotlib.pyplot as plt"
   ]
  },
  {
   "cell_type": "code",
   "execution_count": 3,
   "metadata": {},
   "outputs": [],
   "source": [
    "df = pd.read_csv('concrete.csv')"
   ]
  },
  {
   "cell_type": "code",
   "execution_count": 4,
   "metadata": {},
   "outputs": [
    {
     "data": {
      "text/html": [
       "<div>\n",
       "<style scoped>\n",
       "    .dataframe tbody tr th:only-of-type {\n",
       "        vertical-align: middle;\n",
       "    }\n",
       "\n",
       "    .dataframe tbody tr th {\n",
       "        vertical-align: top;\n",
       "    }\n",
       "\n",
       "    .dataframe thead th {\n",
       "        text-align: right;\n",
       "    }\n",
       "</style>\n",
       "<table border=\"1\" class=\"dataframe\">\n",
       "  <thead>\n",
       "    <tr style=\"text-align: right;\">\n",
       "      <th></th>\n",
       "      <th>cement</th>\n",
       "      <th>slag</th>\n",
       "      <th>ash</th>\n",
       "      <th>water</th>\n",
       "      <th>superplastic</th>\n",
       "      <th>coarseagg</th>\n",
       "      <th>fineagg</th>\n",
       "      <th>age</th>\n",
       "      <th>strength</th>\n",
       "    </tr>\n",
       "  </thead>\n",
       "  <tbody>\n",
       "    <tr>\n",
       "      <th>0</th>\n",
       "      <td>141.3</td>\n",
       "      <td>212.0</td>\n",
       "      <td>0.0</td>\n",
       "      <td>203.5</td>\n",
       "      <td>0.0</td>\n",
       "      <td>971.8</td>\n",
       "      <td>748.5</td>\n",
       "      <td>28</td>\n",
       "      <td>29.89</td>\n",
       "    </tr>\n",
       "    <tr>\n",
       "      <th>1</th>\n",
       "      <td>168.9</td>\n",
       "      <td>42.2</td>\n",
       "      <td>124.3</td>\n",
       "      <td>158.3</td>\n",
       "      <td>10.8</td>\n",
       "      <td>1080.8</td>\n",
       "      <td>796.2</td>\n",
       "      <td>14</td>\n",
       "      <td>23.51</td>\n",
       "    </tr>\n",
       "    <tr>\n",
       "      <th>2</th>\n",
       "      <td>250.0</td>\n",
       "      <td>0.0</td>\n",
       "      <td>95.7</td>\n",
       "      <td>187.4</td>\n",
       "      <td>5.5</td>\n",
       "      <td>956.9</td>\n",
       "      <td>861.2</td>\n",
       "      <td>28</td>\n",
       "      <td>29.22</td>\n",
       "    </tr>\n",
       "    <tr>\n",
       "      <th>3</th>\n",
       "      <td>266.0</td>\n",
       "      <td>114.0</td>\n",
       "      <td>0.0</td>\n",
       "      <td>228.0</td>\n",
       "      <td>0.0</td>\n",
       "      <td>932.0</td>\n",
       "      <td>670.0</td>\n",
       "      <td>28</td>\n",
       "      <td>45.85</td>\n",
       "    </tr>\n",
       "    <tr>\n",
       "      <th>4</th>\n",
       "      <td>154.8</td>\n",
       "      <td>183.4</td>\n",
       "      <td>0.0</td>\n",
       "      <td>193.3</td>\n",
       "      <td>9.1</td>\n",
       "      <td>1047.4</td>\n",
       "      <td>696.7</td>\n",
       "      <td>28</td>\n",
       "      <td>18.29</td>\n",
       "    </tr>\n",
       "  </tbody>\n",
       "</table>\n",
       "</div>"
      ],
      "text/plain": [
       "   cement   slag    ash  water  superplastic  coarseagg  fineagg  age  \\\n",
       "0   141.3  212.0    0.0  203.5           0.0      971.8    748.5   28   \n",
       "1   168.9   42.2  124.3  158.3          10.8     1080.8    796.2   14   \n",
       "2   250.0    0.0   95.7  187.4           5.5      956.9    861.2   28   \n",
       "3   266.0  114.0    0.0  228.0           0.0      932.0    670.0   28   \n",
       "4   154.8  183.4    0.0  193.3           9.1     1047.4    696.7   28   \n",
       "\n",
       "   strength  \n",
       "0     29.89  \n",
       "1     23.51  \n",
       "2     29.22  \n",
       "3     45.85  \n",
       "4     18.29  "
      ]
     },
     "execution_count": 4,
     "metadata": {},
     "output_type": "execute_result"
    }
   ],
   "source": [
    "df.head()"
   ]
  },
  {
   "cell_type": "code",
   "execution_count": 5,
   "metadata": {},
   "outputs": [
    {
     "data": {
      "text/html": [
       "<div>\n",
       "<style scoped>\n",
       "    .dataframe tbody tr th:only-of-type {\n",
       "        vertical-align: middle;\n",
       "    }\n",
       "\n",
       "    .dataframe tbody tr th {\n",
       "        vertical-align: top;\n",
       "    }\n",
       "\n",
       "    .dataframe thead th {\n",
       "        text-align: right;\n",
       "    }\n",
       "</style>\n",
       "<table border=\"1\" class=\"dataframe\">\n",
       "  <thead>\n",
       "    <tr style=\"text-align: right;\">\n",
       "      <th></th>\n",
       "      <th>0</th>\n",
       "      <th>1</th>\n",
       "      <th>2</th>\n",
       "      <th>3</th>\n",
       "      <th>4</th>\n",
       "      <th>5</th>\n",
       "      <th>6</th>\n",
       "      <th>7</th>\n",
       "      <th>8</th>\n",
       "    </tr>\n",
       "  </thead>\n",
       "  <tbody>\n",
       "    <tr>\n",
       "      <th>0</th>\n",
       "      <td>0.111269</td>\n",
       "      <td>0.166942</td>\n",
       "      <td>0.000000</td>\n",
       "      <td>0.160249</td>\n",
       "      <td>0.000000</td>\n",
       "      <td>0.765257</td>\n",
       "      <td>0.589416</td>\n",
       "      <td>0.022049</td>\n",
       "      <td>0.023537</td>\n",
       "    </tr>\n",
       "    <tr>\n",
       "      <th>1</th>\n",
       "      <td>0.123388</td>\n",
       "      <td>0.030829</td>\n",
       "      <td>0.090806</td>\n",
       "      <td>0.115645</td>\n",
       "      <td>0.007890</td>\n",
       "      <td>0.789569</td>\n",
       "      <td>0.581657</td>\n",
       "      <td>0.010228</td>\n",
       "      <td>0.017175</td>\n",
       "    </tr>\n",
       "    <tr>\n",
       "      <th>2</th>\n",
       "      <td>0.188137</td>\n",
       "      <td>0.000000</td>\n",
       "      <td>0.072019</td>\n",
       "      <td>0.141027</td>\n",
       "      <td>0.004139</td>\n",
       "      <td>0.720111</td>\n",
       "      <td>0.648093</td>\n",
       "      <td>0.021071</td>\n",
       "      <td>0.021989</td>\n",
       "    </tr>\n",
       "    <tr>\n",
       "      <th>3</th>\n",
       "      <td>0.220434</td>\n",
       "      <td>0.094472</td>\n",
       "      <td>0.000000</td>\n",
       "      <td>0.188944</td>\n",
       "      <td>0.000000</td>\n",
       "      <td>0.772349</td>\n",
       "      <td>0.555229</td>\n",
       "      <td>0.023204</td>\n",
       "      <td>0.037996</td>\n",
       "    </tr>\n",
       "    <tr>\n",
       "      <th>4</th>\n",
       "      <td>0.119480</td>\n",
       "      <td>0.141555</td>\n",
       "      <td>0.000000</td>\n",
       "      <td>0.149196</td>\n",
       "      <td>0.007024</td>\n",
       "      <td>0.808423</td>\n",
       "      <td>0.537739</td>\n",
       "      <td>0.021611</td>\n",
       "      <td>0.014117</td>\n",
       "    </tr>\n",
       "    <tr>\n",
       "      <th>...</th>\n",
       "      <td>...</td>\n",
       "      <td>...</td>\n",
       "      <td>...</td>\n",
       "      <td>...</td>\n",
       "      <td>...</td>\n",
       "      <td>...</td>\n",
       "      <td>...</td>\n",
       "      <td>...</td>\n",
       "      <td>...</td>\n",
       "    </tr>\n",
       "    <tr>\n",
       "      <th>1025</th>\n",
       "      <td>0.105072</td>\n",
       "      <td>0.000000</td>\n",
       "      <td>0.129200</td>\n",
       "      <td>0.140096</td>\n",
       "      <td>0.007783</td>\n",
       "      <td>0.747959</td>\n",
       "      <td>0.626542</td>\n",
       "      <td>0.021793</td>\n",
       "      <td>0.010344</td>\n",
       "    </tr>\n",
       "    <tr>\n",
       "      <th>1026</th>\n",
       "      <td>0.392784</td>\n",
       "      <td>0.000000</td>\n",
       "      <td>0.000000</td>\n",
       "      <td>0.104831</td>\n",
       "      <td>0.020848</td>\n",
       "      <td>0.629947</td>\n",
       "      <td>0.660701</td>\n",
       "      <td>0.002218</td>\n",
       "      <td>0.030533</td>\n",
       "    </tr>\n",
       "    <tr>\n",
       "      <th>1027</th>\n",
       "      <td>0.227165</td>\n",
       "      <td>0.095337</td>\n",
       "      <td>0.074215</td>\n",
       "      <td>0.147608</td>\n",
       "      <td>0.007315</td>\n",
       "      <td>0.715110</td>\n",
       "      <td>0.631444</td>\n",
       "      <td>0.023012</td>\n",
       "      <td>0.036392</td>\n",
       "    </tr>\n",
       "    <tr>\n",
       "      <th>1028</th>\n",
       "      <td>0.273482</td>\n",
       "      <td>0.030387</td>\n",
       "      <td>0.000000</td>\n",
       "      <td>0.182321</td>\n",
       "      <td>0.000000</td>\n",
       "      <td>0.745279</td>\n",
       "      <td>0.535769</td>\n",
       "      <td>0.215907</td>\n",
       "      <td>0.044029</td>\n",
       "    </tr>\n",
       "    <tr>\n",
       "      <th>1029</th>\n",
       "      <td>0.385151</td>\n",
       "      <td>0.000000</td>\n",
       "      <td>0.000000</td>\n",
       "      <td>0.123391</td>\n",
       "      <td>0.000000</td>\n",
       "      <td>0.802397</td>\n",
       "      <td>0.437217</td>\n",
       "      <td>0.004993</td>\n",
       "      <td>0.037524</td>\n",
       "    </tr>\n",
       "  </tbody>\n",
       "</table>\n",
       "<p>1030 rows × 9 columns</p>\n",
       "</div>"
      ],
      "text/plain": [
       "             0         1         2         3         4         5         6  \\\n",
       "0     0.111269  0.166942  0.000000  0.160249  0.000000  0.765257  0.589416   \n",
       "1     0.123388  0.030829  0.090806  0.115645  0.007890  0.789569  0.581657   \n",
       "2     0.188137  0.000000  0.072019  0.141027  0.004139  0.720111  0.648093   \n",
       "3     0.220434  0.094472  0.000000  0.188944  0.000000  0.772349  0.555229   \n",
       "4     0.119480  0.141555  0.000000  0.149196  0.007024  0.808423  0.537739   \n",
       "...        ...       ...       ...       ...       ...       ...       ...   \n",
       "1025  0.105072  0.000000  0.129200  0.140096  0.007783  0.747959  0.626542   \n",
       "1026  0.392784  0.000000  0.000000  0.104831  0.020848  0.629947  0.660701   \n",
       "1027  0.227165  0.095337  0.074215  0.147608  0.007315  0.715110  0.631444   \n",
       "1028  0.273482  0.030387  0.000000  0.182321  0.000000  0.745279  0.535769   \n",
       "1029  0.385151  0.000000  0.000000  0.123391  0.000000  0.802397  0.437217   \n",
       "\n",
       "             7         8  \n",
       "0     0.022049  0.023537  \n",
       "1     0.010228  0.017175  \n",
       "2     0.021071  0.021989  \n",
       "3     0.023204  0.037996  \n",
       "4     0.021611  0.014117  \n",
       "...        ...       ...  \n",
       "1025  0.021793  0.010344  \n",
       "1026  0.002218  0.030533  \n",
       "1027  0.023012  0.036392  \n",
       "1028  0.215907  0.044029  \n",
       "1029  0.004993  0.037524  \n",
       "\n",
       "[1030 rows x 9 columns]"
      ]
     },
     "execution_count": 5,
     "metadata": {},
     "output_type": "execute_result"
    }
   ],
   "source": [
    "from sklearn.preprocessing import Normalizer\n",
    "\n",
    "df2 = Normalizer().fit_transform(df)\n",
    "df2 = pd.DataFrame(df2)\n",
    "df2"
   ]
  },
  {
   "cell_type": "code",
   "execution_count": 6,
   "metadata": {},
   "outputs": [],
   "source": [
    "X = df2.iloc[:,:8]"
   ]
  },
  {
   "cell_type": "code",
   "execution_count": 7,
   "metadata": {},
   "outputs": [],
   "source": [
    "y=df2.iloc[:,8:]"
   ]
  },
  {
   "cell_type": "code",
   "execution_count": 8,
   "metadata": {},
   "outputs": [
    {
     "data": {
      "text/html": [
       "<div>\n",
       "<style scoped>\n",
       "    .dataframe tbody tr th:only-of-type {\n",
       "        vertical-align: middle;\n",
       "    }\n",
       "\n",
       "    .dataframe tbody tr th {\n",
       "        vertical-align: top;\n",
       "    }\n",
       "\n",
       "    .dataframe thead th {\n",
       "        text-align: right;\n",
       "    }\n",
       "</style>\n",
       "<table border=\"1\" class=\"dataframe\">\n",
       "  <thead>\n",
       "    <tr style=\"text-align: right;\">\n",
       "      <th></th>\n",
       "      <th>0</th>\n",
       "      <th>1</th>\n",
       "      <th>2</th>\n",
       "      <th>3</th>\n",
       "      <th>4</th>\n",
       "      <th>5</th>\n",
       "      <th>6</th>\n",
       "      <th>7</th>\n",
       "    </tr>\n",
       "  </thead>\n",
       "  <tbody>\n",
       "    <tr>\n",
       "      <th>0</th>\n",
       "      <td>0.111269</td>\n",
       "      <td>0.166942</td>\n",
       "      <td>0.000000</td>\n",
       "      <td>0.160249</td>\n",
       "      <td>0.000000</td>\n",
       "      <td>0.765257</td>\n",
       "      <td>0.589416</td>\n",
       "      <td>0.022049</td>\n",
       "    </tr>\n",
       "    <tr>\n",
       "      <th>1</th>\n",
       "      <td>0.123388</td>\n",
       "      <td>0.030829</td>\n",
       "      <td>0.090806</td>\n",
       "      <td>0.115645</td>\n",
       "      <td>0.007890</td>\n",
       "      <td>0.789569</td>\n",
       "      <td>0.581657</td>\n",
       "      <td>0.010228</td>\n",
       "    </tr>\n",
       "    <tr>\n",
       "      <th>2</th>\n",
       "      <td>0.188137</td>\n",
       "      <td>0.000000</td>\n",
       "      <td>0.072019</td>\n",
       "      <td>0.141027</td>\n",
       "      <td>0.004139</td>\n",
       "      <td>0.720111</td>\n",
       "      <td>0.648093</td>\n",
       "      <td>0.021071</td>\n",
       "    </tr>\n",
       "    <tr>\n",
       "      <th>3</th>\n",
       "      <td>0.220434</td>\n",
       "      <td>0.094472</td>\n",
       "      <td>0.000000</td>\n",
       "      <td>0.188944</td>\n",
       "      <td>0.000000</td>\n",
       "      <td>0.772349</td>\n",
       "      <td>0.555229</td>\n",
       "      <td>0.023204</td>\n",
       "    </tr>\n",
       "    <tr>\n",
       "      <th>4</th>\n",
       "      <td>0.119480</td>\n",
       "      <td>0.141555</td>\n",
       "      <td>0.000000</td>\n",
       "      <td>0.149196</td>\n",
       "      <td>0.007024</td>\n",
       "      <td>0.808423</td>\n",
       "      <td>0.537739</td>\n",
       "      <td>0.021611</td>\n",
       "    </tr>\n",
       "  </tbody>\n",
       "</table>\n",
       "</div>"
      ],
      "text/plain": [
       "          0         1         2         3         4         5         6  \\\n",
       "0  0.111269  0.166942  0.000000  0.160249  0.000000  0.765257  0.589416   \n",
       "1  0.123388  0.030829  0.090806  0.115645  0.007890  0.789569  0.581657   \n",
       "2  0.188137  0.000000  0.072019  0.141027  0.004139  0.720111  0.648093   \n",
       "3  0.220434  0.094472  0.000000  0.188944  0.000000  0.772349  0.555229   \n",
       "4  0.119480  0.141555  0.000000  0.149196  0.007024  0.808423  0.537739   \n",
       "\n",
       "          7  \n",
       "0  0.022049  \n",
       "1  0.010228  \n",
       "2  0.021071  \n",
       "3  0.023204  \n",
       "4  0.021611  "
      ]
     },
     "execution_count": 8,
     "metadata": {},
     "output_type": "execute_result"
    }
   ],
   "source": [
    "X.head()"
   ]
  },
  {
   "cell_type": "code",
   "execution_count": 9,
   "metadata": {},
   "outputs": [
    {
     "data": {
      "text/html": [
       "<div>\n",
       "<style scoped>\n",
       "    .dataframe tbody tr th:only-of-type {\n",
       "        vertical-align: middle;\n",
       "    }\n",
       "\n",
       "    .dataframe tbody tr th {\n",
       "        vertical-align: top;\n",
       "    }\n",
       "\n",
       "    .dataframe thead th {\n",
       "        text-align: right;\n",
       "    }\n",
       "</style>\n",
       "<table border=\"1\" class=\"dataframe\">\n",
       "  <thead>\n",
       "    <tr style=\"text-align: right;\">\n",
       "      <th></th>\n",
       "      <th>8</th>\n",
       "    </tr>\n",
       "  </thead>\n",
       "  <tbody>\n",
       "    <tr>\n",
       "      <th>0</th>\n",
       "      <td>0.023537</td>\n",
       "    </tr>\n",
       "    <tr>\n",
       "      <th>1</th>\n",
       "      <td>0.017175</td>\n",
       "    </tr>\n",
       "    <tr>\n",
       "      <th>2</th>\n",
       "      <td>0.021989</td>\n",
       "    </tr>\n",
       "    <tr>\n",
       "      <th>3</th>\n",
       "      <td>0.037996</td>\n",
       "    </tr>\n",
       "    <tr>\n",
       "      <th>4</th>\n",
       "      <td>0.014117</td>\n",
       "    </tr>\n",
       "  </tbody>\n",
       "</table>\n",
       "</div>"
      ],
      "text/plain": [
       "          8\n",
       "0  0.023537\n",
       "1  0.017175\n",
       "2  0.021989\n",
       "3  0.037996\n",
       "4  0.014117"
      ]
     },
     "execution_count": 9,
     "metadata": {},
     "output_type": "execute_result"
    }
   ],
   "source": [
    "y.head()"
   ]
  },
  {
   "cell_type": "code",
   "execution_count": 10,
   "metadata": {},
   "outputs": [
    {
     "data": {
      "text/plain": [
       "[15.229736835039063,\n",
       " 3.4422542118778217,\n",
       " 4.155409480198613,\n",
       " 79.71718322439241,\n",
       " 5.426055391925735,\n",
       " 84.67589012649955,\n",
       " 72.23838841153335,\n",
       " 1.7189950205404234]"
      ]
     },
     "execution_count": 10,
     "metadata": {},
     "output_type": "execute_result"
    }
   ],
   "source": [
    "#Q-1.Try to identify the various patterns between inputs and output.\n",
    "#ANS-1.WE WILL CHECK multicollinearity AND THEN VISUALIZE THE PATTERNS\n",
    "#Check for multicollinearity\n",
    "#We get less variance_inflation_factor for columns index 1,2,4,7\n",
    "X1=X\n",
    "import numpy as np\n",
    "X1 = np.array(X1)\n",
    "from statsmodels.stats.outliers_influence import variance_inflation_factor\n",
    "\n",
    "vif = pd.DataFrame()\n",
    "vif = [variance_inflation_factor(X1, i) for i in range(X1.shape[1])]\n",
    "vif"
   ]
  },
  {
   "cell_type": "code",
   "execution_count": 11,
   "metadata": {},
   "outputs": [
    {
     "data": {
      "text/plain": [
       "<matplotlib.collections.PathCollection at 0x7f9ce93e3978>"
      ]
     },
     "execution_count": 11,
     "metadata": {},
     "output_type": "execute_result"
    },
    {
     "data": {
      "image/png": "[encoded data removed]",
      "text/plain": [
       "<Figure size 432x288 with 1 Axes>"
      ]
     },
     "metadata": {
      "needs_background": "light"
     },
     "output_type": "display_data"
    }
   ],
   "source": [
    "plt.scatter(X[1],y)"
   ]
  },
  {
   "cell_type": "code",
   "execution_count": 12,
   "metadata": {},
   "outputs": [
    {
     "data": {
      "text/plain": [
       "<matplotlib.collections.PathCollection at 0x7f9ce8cb1400>"
      ]
     },
     "execution_count": 12,
     "metadata": {},
     "output_type": "execute_result"
    },
    {
     "data": {
      "image/png": "[encoded data removed]",
      "text/plain": [
       "<Figure size 432x288 with 1 Axes>"
      ]
     },
     "metadata": {
      "needs_background": "light"
     },
     "output_type": "display_data"
    }
   ],
   "source": [
    "plt.scatter(X[7],y)"
   ]
  },
  {
   "cell_type": "code",
   "execution_count": 13,
   "metadata": {},
   "outputs": [
    {
     "data": {
      "text/plain": [
       "<matplotlib.axes._subplots.AxesSubplot at 0x7f9ce7fe5cc0>"
      ]
     },
     "execution_count": 13,
     "metadata": {},
     "output_type": "execute_result"
    },
    {
     "data": {
      "image/png": "[encoded data removed]",
      "text/plain": [
       "<Figure size 432x288 with 1 Axes>"
      ]
     },
     "metadata": {
      "needs_background": "light"
     },
     "output_type": "display_data"
    }
   ],
   "source": [
    "#Q-2Provide us the Data Quality Report like Normal Distribution, Outliers, \n",
    "#Skewness, Kurtosis, Comparisons between columns, relationships between columns, trends, etc. \n",
    "#ANS-1  OUTLIERS IN CLOUMNS visualizing\n",
    "import seaborn as sns\n",
    "sns.boxplot(x=X[4])"
   ]
  },
  {
   "cell_type": "code",
   "execution_count": 14,
   "metadata": {},
   "outputs": [
    {
     "data": {
      "text/plain": [
       "<matplotlib.axes._subplots.AxesSubplot at 0x7f9ce7f52e10>"
      ]
     },
     "execution_count": 14,
     "metadata": {},
     "output_type": "execute_result"
    },
    {
     "data": {
      "image/png": "[encoded data removed]",
      "text/plain": [
       "<Figure size 432x288 with 1 Axes>"
      ]
     },
     "metadata": {
      "needs_background": "light"
     },
     "output_type": "display_data"
    }
   ],
   "source": [
    "sns.boxplot(x=X[5])"
   ]
  },
  {
   "cell_type": "code",
   "execution_count": 15,
   "metadata": {},
   "outputs": [
    {
     "data": {
      "text/plain": [
       "<matplotlib.axes._subplots.AxesSubplot at 0x7f9ce7f33b70>"
      ]
     },
     "execution_count": 15,
     "metadata": {},
     "output_type": "execute_result"
    },
    {
     "data": {
      "image/png": "[encoded data removed]",
      "text/plain": [
       "<Figure size 432x288 with 1 Axes>"
      ]
     },
     "metadata": {
      "needs_background": "light"
     },
     "output_type": "display_data"
    }
   ],
   "source": [
    "sns.boxplot(x=X[7])"
   ]
  },
  {
   "cell_type": "code",
   "execution_count": 16,
   "metadata": {},
   "outputs": [
    {
     "data": {
      "text/plain": [
       "<matplotlib.axes._subplots.AxesSubplot at 0x7f9ce7e92b70>"
      ]
     },
     "execution_count": 16,
     "metadata": {},
     "output_type": "execute_result"
    },
    {
     "data": {
      "image/png": "[encoded data removed]",
      "text/plain": [
       "<Figure size 432x288 with 1 Axes>"
      ]
     },
     "metadata": {
      "needs_background": "light"
     },
     "output_type": "display_data"
    }
   ],
   "source": [
    "sns.boxplot(x=X[6])"
   ]
  },
  {
   "cell_type": "code",
   "execution_count": 20,
   "metadata": {},
   "outputs": [
    {
     "data": {
      "text/plain": [
       "<matplotlib.axes._subplots.AxesSubplot at 0x7f9ce7bb8780>"
      ]
     },
     "execution_count": 20,
     "metadata": {},
     "output_type": "execute_result"
    },
    {
     "data": {
      "image/png": "[encoded data removed]",
      "text/plain": [
       "<Figure size 432x288 with 1 Axes>"
      ]
     },
     "metadata": {
      "needs_background": "light"
     },
     "output_type": "display_data"
    }
   ],
   "source": [
    "X[0].hist()"
   ]
  },
  {
   "cell_type": "code",
   "execution_count": 21,
   "metadata": {},
   "outputs": [
    {
     "data": {
      "text/plain": [
       "<matplotlib.axes._subplots.AxesSubplot at 0x7f9ce7afa5f8>"
      ]
     },
     "execution_count": 21,
     "metadata": {},
     "output_type": "execute_result"
    },
    {
     "data": {
      "image/png": "[encoded data removed]",
      "text/plain": [
       "<Figure size 432x288 with 1 Axes>"
      ]
     },
     "metadata": {
      "needs_background": "light"
     },
     "output_type": "display_data"
    }
   ],
   "source": [
    "import seaborn as sns\n",
    "sns.distplot(X[0])"
   ]
  },
  {
   "cell_type": "code",
   "execution_count": 75,
   "metadata": {},
   "outputs": [],
   "source": [
    "import statsmodels.api as sm"
   ]
  },
  {
   "cell_type": "code",
   "execution_count": 76,
   "metadata": {},
   "outputs": [
    {
     "data": {
      "text/html": [
       "<table class=\"simpletable\">\n",
       "<caption>OLS Regression Results</caption>\n",
       "<tr>\n",
       "  <th>Dep. Variable:</th>            <td>8</td>        <th>  R-squared (uncentered):</th>      <td>   0.931</td>\n",
       "</tr>\n",
       "<tr>\n",
       "  <th>Model:</th>                   <td>OLS</td>       <th>  Adj. R-squared (uncentered):</th> <td>   0.931</td>\n",
       "</tr>\n",
       "<tr>\n",
       "  <th>Method:</th>             <td>Least Squares</td>  <th>  F-statistic:       </th>          <td>   1732.</td>\n",
       "</tr>\n",
       "<tr>\n",
       "  <th>Date:</th>             <td>Wed, 01 Apr 2020</td> <th>  Prob (F-statistic):</th>           <td>  0.00</td> \n",
       "</tr>\n",
       "<tr>\n",
       "  <th>Time:</th>                 <td>19:56:13</td>     <th>  Log-Likelihood:    </th>          <td>  3516.1</td>\n",
       "</tr>\n",
       "<tr>\n",
       "  <th>No. Observations:</th>      <td>  1030</td>      <th>  AIC:               </th>          <td>  -7016.</td>\n",
       "</tr>\n",
       "<tr>\n",
       "  <th>Df Residuals:</th>          <td>  1022</td>      <th>  BIC:               </th>          <td>  -6977.</td>\n",
       "</tr>\n",
       "<tr>\n",
       "  <th>Df Model:</th>              <td>     8</td>      <th>                     </th>              <td> </td>   \n",
       "</tr>\n",
       "<tr>\n",
       "  <th>Covariance Type:</th>      <td>nonrobust</td>    <th>                     </th>              <td> </td>   \n",
       "</tr>\n",
       "</table>\n",
       "<table class=\"simpletable\">\n",
       "<tr>\n",
       "  <td></td>     <th>coef</th>     <th>std err</th>      <th>t</th>      <th>P>|t|</th>  <th>[0.025</th>    <th>0.975]</th>  \n",
       "</tr>\n",
       "<tr>\n",
       "  <th>0</th> <td>    0.1126</td> <td>    0.004</td> <td>   26.590</td> <td> 0.000</td> <td>    0.104</td> <td>    0.121</td>\n",
       "</tr>\n",
       "<tr>\n",
       "  <th>1</th> <td>    0.0947</td> <td>    0.005</td> <td>   18.398</td> <td> 0.000</td> <td>    0.085</td> <td>    0.105</td>\n",
       "</tr>\n",
       "<tr>\n",
       "  <th>2</th> <td>    0.0764</td> <td>    0.008</td> <td>    9.793</td> <td> 0.000</td> <td>    0.061</td> <td>    0.092</td>\n",
       "</tr>\n",
       "<tr>\n",
       "  <th>3</th> <td>   -0.1751</td> <td>    0.016</td> <td>  -11.119</td> <td> 0.000</td> <td>   -0.206</td> <td>   -0.144</td>\n",
       "</tr>\n",
       "<tr>\n",
       "  <th>4</th> <td>    0.2825</td> <td>    0.088</td> <td>    3.221</td> <td> 0.001</td> <td>    0.110</td> <td>    0.455</td>\n",
       "</tr>\n",
       "<tr>\n",
       "  <th>5</th> <td>    0.0092</td> <td>    0.003</td> <td>    2.994</td> <td> 0.003</td> <td>    0.003</td> <td>    0.015</td>\n",
       "</tr>\n",
       "<tr>\n",
       "  <th>6</th> <td>    0.0116</td> <td>    0.004</td> <td>    3.255</td> <td> 0.001</td> <td>    0.005</td> <td>    0.019</td>\n",
       "</tr>\n",
       "<tr>\n",
       "  <th>7</th> <td>    0.1136</td> <td>    0.005</td> <td>   20.733</td> <td> 0.000</td> <td>    0.103</td> <td>    0.124</td>\n",
       "</tr>\n",
       "</table>\n",
       "<table class=\"simpletable\">\n",
       "<tr>\n",
       "  <th>Omnibus:</th>       <td> 4.340</td> <th>  Durbin-Watson:     </th> <td>   1.871</td>\n",
       "</tr>\n",
       "<tr>\n",
       "  <th>Prob(Omnibus):</th> <td> 0.114</td> <th>  Jarque-Bera (JB):  </th> <td>   4.276</td>\n",
       "</tr>\n",
       "<tr>\n",
       "  <th>Skew:</th>          <td>-0.157</td> <th>  Prob(JB):          </th> <td>   0.118</td>\n",
       "</tr>\n",
       "<tr>\n",
       "  <th>Kurtosis:</th>      <td> 3.028</td> <th>  Cond. No.          </th> <td>    351.</td>\n",
       "</tr>\n",
       "</table><br/><br/>Warnings:<br/>[1] Standard Errors assume that the covariance matrix of the errors is correctly specified."
      ],
      "text/plain": [
       "<class 'statsmodels.iolib.summary.Summary'>\n",
       "\"\"\"\n",
       "                                 OLS Regression Results                                \n",
       "=======================================================================================\n",
       "Dep. Variable:                      8   R-squared (uncentered):                   0.931\n",
       "Model:                            OLS   Adj. R-squared (uncentered):              0.931\n",
       "Method:                 Least Squares   F-statistic:                              1732.\n",
       "Date:                Wed, 01 Apr 2020   Prob (F-statistic):                        0.00\n",
       "Time:                        19:56:13   Log-Likelihood:                          3516.1\n",
       "No. Observations:                1030   AIC:                                     -7016.\n",
       "Df Residuals:                    1022   BIC:                                     -6977.\n",
       "Df Model:                           8                                                  \n",
       "Covariance Type:            nonrobust                                                  \n",
       "==============================================================================\n",
       "                 coef    std err          t      P>|t|      [0.025      0.975]\n",
       "------------------------------------------------------------------------------\n",
       "0              0.1126      0.004     26.590      0.000       0.104       0.121\n",
       "1              0.0947      0.005     18.398      0.000       0.085       0.105\n",
       "2              0.0764      0.008      9.793      0.000       0.061       0.092\n",
       "3             -0.1751      0.016    -11.119      0.000      -0.206      -0.144\n",
       "4              0.2825      0.088      3.221      0.001       0.110       0.455\n",
       "5              0.0092      0.003      2.994      0.003       0.003       0.015\n",
       "6              0.0116      0.004      3.255      0.001       0.005       0.019\n",
       "7              0.1136      0.005     20.733      0.000       0.103       0.124\n",
       "==============================================================================\n",
       "Omnibus:                        4.340   Durbin-Watson:                   1.871\n",
       "Prob(Omnibus):                  0.114   Jarque-Bera (JB):                4.276\n",
       "Skew:                          -0.157   Prob(JB):                        0.118\n",
       "Kurtosis:                       3.028   Cond. No.                         351.\n",
       "==============================================================================\n",
       "\n",
       "Warnings:\n",
       "[1] Standard Errors assume that the covariance matrix of the errors is correctly specified.\n",
       "\"\"\""
      ]
     },
     "execution_count": 76,
     "metadata": {},
     "output_type": "execute_result"
    }
   ],
   "source": [
    "#REPORT OF DATASET AS IN STATISTICS MODEL\n",
    "\n",
    "results_1 = sm.OLS(y,X).fit()\n",
    "results_1.summary()"
   ]
  },
  {
   "cell_type": "code",
   "execution_count": null,
   "metadata": {},
   "outputs": [],
   "source": []
  }
 ],
 "metadata": {
  "kernelspec": {
   "display_name": "Python 3",
   "language": "python",
   "name": "python3"
  },
  "language_info": {
   "codemirror_mode": {
    "name": "ipython",
    "version": 3
   },
   "file_extension": ".py",
   "mimetype": "text/x-python",
   "name": "python",
   "nbconvert_exporter": "python",
   "pygments_lexer": "ipython3",
   "version": "3.6.9"
  }
 },
 "nbformat": 4,
 "nbformat_minor": 2
}
