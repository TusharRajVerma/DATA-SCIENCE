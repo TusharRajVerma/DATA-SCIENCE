{
 "cells": [
  {
   "cell_type": "markdown",
   "metadata": {},
   "source": [
    "# 1.Write a program to enter a string from user and perform following tasks\n",
    "## Write a python functionnamed “Tokenize”which returnsthe tokenized string\n",
    "## Print tokens along with the frequency of each tokenusing the above function\n",
    "## Printthe 5 least occurring tokens"
   ]
  },
  {
   "cell_type": "code",
   "execution_count": 1,
   "metadata": {},
   "outputs": [],
   "source": [
    "import nltk"
   ]
  },
  {
   "cell_type": "code",
   "execution_count": 8,
   "metadata": {},
   "outputs": [
    {
     "name": "stdout",
     "output_type": "stream",
     "text": [
      "Enter the stringhello world in this world you will study the world using python and country using python\n"
     ]
    }
   ],
   "source": [
    "msg=str(input('Enter the string'))"
   ]
  },
  {
   "cell_type": "code",
   "execution_count": 9,
   "metadata": {},
   "outputs": [
    {
     "data": {
      "text/plain": [
       "'hello world in this world you will study the world using python and country using python'"
      ]
     },
     "execution_count": 9,
     "metadata": {},
     "output_type": "execute_result"
    }
   ],
   "source": [
    "msg"
   ]
  },
  {
   "cell_type": "code",
   "execution_count": 24,
   "metadata": {},
   "outputs": [
    {
     "name": "stdout",
     "output_type": "stream",
     "text": [
      "Frequency of hello is : 1\n",
      "Frequency of world is : 3\n",
      "Frequency of in is : 1\n",
      "Frequency of this is : 1\n",
      "Frequency of you is : 1\n",
      "Frequency of will is : 1\n",
      "Frequency of study is : 1\n",
      "Frequency of the is : 1\n",
      "Frequency of using is : 2\n",
      "Frequency of python is : 2\n",
      "Frequency of and is : 1\n",
      "Frequency of country is : 1\n"
     ]
    }
   ],
   "source": [
    "from nltk.tokenize import word_tokenize\n",
    "dict={}\n",
    "def Tokenized(text):  \n",
    "    tok=word_tokenize(text)\n",
    "    str2 = [] \n",
    "    for i in tok:              \n",
    "        if i not in str2: \n",
    "            str2.append(i)  \n",
    "               \n",
    "    for i in range(0, len(str2)): \n",
    "        dict[str2[i]]=tok.count(str2[i])\n",
    "        print('Frequency of', str2[i], 'is :', tok.count(str2[i]))\n",
    "  \n",
    "Tokenized(msg)\n"
   ]
  },
  {
   "cell_type": "code",
   "execution_count": 32,
   "metadata": {},
   "outputs": [
    {
     "data": {
      "text/plain": [
       "{'hello': 1,\n",
       " 'in': 1,\n",
       " 'this': 1,\n",
       " 'you': 1,\n",
       " 'will': 1,\n",
       " 'study': 1,\n",
       " 'the': 1,\n",
       " 'and': 1,\n",
       " 'country': 1,\n",
       " 'using': 2,\n",
       " 'python': 2,\n",
       " 'world': 3}"
      ]
     },
     "execution_count": 32,
     "metadata": {},
     "output_type": "execute_result"
    }
   ],
   "source": [
    "sortdict={k: v for k, v in sorted(dict.items(), key=lambda item: item[1])}\n",
    "sortdict\n"
   ]
  },
  {
   "cell_type": "code",
   "execution_count": 33,
   "metadata": {},
   "outputs": [
    {
     "name": "stdout",
     "output_type": "stream",
     "text": [
      "hello\n",
      "in\n",
      "this\n",
      "you\n",
      "will\n"
     ]
    }
   ],
   "source": [
    "i=0\n",
    "for k in sortdict:\n",
    "    if(i<5):\n",
    "        print(k)\n",
    "    else:\n",
    "        break\n",
    "    i=i+1"
   ]
  },
  {
   "cell_type": "markdown",
   "metadata": {},
   "source": [
    "# 2.Write a program to enter a string from user and perform following tasks.\n",
    "## •Write a python function named “RemoveStopWords”which returns the string after removing stop words\n",
    "## •Count frequency ofeach stop word present in a string using the above function\n",
    "## •Plot a bar graph depicting stop wordsand their frequencies"
   ]
  },
  {
   "cell_type": "code",
   "execution_count": 34,
   "metadata": {},
   "outputs": [
    {
     "name": "stdout",
     "output_type": "stream",
     "text": [
      "Enter the stringHello in a this of a world that has a country and an end to the world\n"
     ]
    }
   ],
   "source": [
    "msg2=str(input('Enter the string'))"
   ]
  },
  {
   "cell_type": "code",
   "execution_count": 57,
   "metadata": {},
   "outputs": [],
   "source": [
    "tok=word_tokenize(msg2)"
   ]
  },
  {
   "cell_type": "code",
   "execution_count": 58,
   "metadata": {},
   "outputs": [],
   "source": [
    "from nltk.corpus import stopwords\n",
    "def RemoveStopWords(text):\n",
    "    return [word for word in text.split() if word.lower() \n",
    "            not in stopwords.words('english')]"
   ]
  },
  {
   "cell_type": "code",
   "execution_count": 59,
   "metadata": {},
   "outputs": [],
   "source": [
    "stop=RemoveStopWords(msg2)"
   ]
  },
  {
   "cell_type": "code",
   "execution_count": 96,
   "metadata": {},
   "outputs": [
    {
     "data": {
      "text/plain": [
       "['Hello', 'world', 'country', 'end', 'world']"
      ]
     },
     "execution_count": 96,
     "metadata": {},
     "output_type": "execute_result"
    }
   ],
   "source": [
    "stop"
   ]
  },
  {
   "cell_type": "code",
   "execution_count": 97,
   "metadata": {},
   "outputs": [
    {
     "data": {
      "text/plain": [
       "['Hello',\n",
       " 'in',\n",
       " 'a',\n",
       " 'this',\n",
       " 'of',\n",
       " 'a',\n",
       " 'world',\n",
       " 'that',\n",
       " 'has',\n",
       " 'a',\n",
       " 'country',\n",
       " 'and',\n",
       " 'an',\n",
       " 'end',\n",
       " 'to',\n",
       " 'the',\n",
       " 'world']"
      ]
     },
     "execution_count": 97,
     "metadata": {},
     "output_type": "execute_result"
    }
   ],
   "source": [
    "tok"
   ]
  },
  {
   "cell_type": "code",
   "execution_count": 101,
   "metadata": {},
   "outputs": [],
   "source": [
    "stopword=[]\n",
    "cou=0\n",
    "for i in tok:\n",
    "    for j in stop:\n",
    "        if(j==i):\n",
    "            cou=1\n",
    "    if(cou==0):\n",
    "        stopword.append(i)\n",
    "    cou=0\n",
    "        \n",
    "    "
   ]
  },
  {
   "cell_type": "code",
   "execution_count": 102,
   "metadata": {},
   "outputs": [
    {
     "data": {
      "text/plain": [
       "['in', 'a', 'this', 'of', 'a', 'that', 'has', 'a', 'and', 'an', 'to', 'the']"
      ]
     },
     "execution_count": 102,
     "metadata": {},
     "output_type": "execute_result"
    }
   ],
   "source": [
    "stopword"
   ]
  },
  {
   "cell_type": "code",
   "execution_count": 113,
   "metadata": {},
   "outputs": [
    {
     "name": "stdout",
     "output_type": "stream",
     "text": [
      "Frequency of in is : 1\n",
      "Frequency of a is : 3\n",
      "Frequency of this is : 1\n",
      "Frequency of of is : 1\n",
      "Frequency of that is : 1\n",
      "Frequency of has is : 1\n",
      "Frequency of and is : 1\n",
      "Frequency of an is : 1\n",
      "Frequency of to is : 1\n",
      "Frequency of the is : 1\n"
     ]
    }
   ],
   "source": [
    "str2 = [] \n",
    "st=[]\n",
    "fr=[]\n",
    "for i in stopword:              \n",
    "        if i not in str2: \n",
    "            str2.append(i)  \n",
    "for i in range(0, len(str2)): \n",
    "        st.append(str2[i])\n",
    "        fr.append(tok.count(str2[i]))\n",
    "        print('Frequency of', str2[i], 'is :', tok.count(str2[i]))\n",
    "  "
   ]
  },
  {
   "cell_type": "code",
   "execution_count": 107,
   "metadata": {},
   "outputs": [],
   "source": [
    "import pandas as pd\n",
    "df=pd.DataFrame()"
   ]
  },
  {
   "cell_type": "code",
   "execution_count": 114,
   "metadata": {},
   "outputs": [],
   "source": [
    "df['stopwords']=st\n",
    "df['frequency']=fr\n",
    "    "
   ]
  },
  {
   "cell_type": "code",
   "execution_count": 116,
   "metadata": {},
   "outputs": [
    {
     "data": {
      "text/html": [
       "<div>\n",
       "<style scoped>\n",
       "    .dataframe tbody tr th:only-of-type {\n",
       "        vertical-align: middle;\n",
       "    }\n",
       "\n",
       "    .dataframe tbody tr th {\n",
       "        vertical-align: top;\n",
       "    }\n",
       "\n",
       "    .dataframe thead th {\n",
       "        text-align: right;\n",
       "    }\n",
       "</style>\n",
       "<table border=\"1\" class=\"dataframe\">\n",
       "  <thead>\n",
       "    <tr style=\"text-align: right;\">\n",
       "      <th></th>\n",
       "      <th>stopwords</th>\n",
       "      <th>frequency</th>\n",
       "    </tr>\n",
       "  </thead>\n",
       "  <tbody>\n",
       "    <tr>\n",
       "      <th>0</th>\n",
       "      <td>in</td>\n",
       "      <td>1</td>\n",
       "    </tr>\n",
       "    <tr>\n",
       "      <th>1</th>\n",
       "      <td>a</td>\n",
       "      <td>3</td>\n",
       "    </tr>\n",
       "    <tr>\n",
       "      <th>2</th>\n",
       "      <td>this</td>\n",
       "      <td>1</td>\n",
       "    </tr>\n",
       "    <tr>\n",
       "      <th>3</th>\n",
       "      <td>of</td>\n",
       "      <td>1</td>\n",
       "    </tr>\n",
       "    <tr>\n",
       "      <th>4</th>\n",
       "      <td>that</td>\n",
       "      <td>1</td>\n",
       "    </tr>\n",
       "    <tr>\n",
       "      <th>5</th>\n",
       "      <td>has</td>\n",
       "      <td>1</td>\n",
       "    </tr>\n",
       "    <tr>\n",
       "      <th>6</th>\n",
       "      <td>and</td>\n",
       "      <td>1</td>\n",
       "    </tr>\n",
       "    <tr>\n",
       "      <th>7</th>\n",
       "      <td>an</td>\n",
       "      <td>1</td>\n",
       "    </tr>\n",
       "    <tr>\n",
       "      <th>8</th>\n",
       "      <td>to</td>\n",
       "      <td>1</td>\n",
       "    </tr>\n",
       "    <tr>\n",
       "      <th>9</th>\n",
       "      <td>the</td>\n",
       "      <td>1</td>\n",
       "    </tr>\n",
       "  </tbody>\n",
       "</table>\n",
       "</div>"
      ],
      "text/plain": [
       "  stopwords  frequency\n",
       "0        in          1\n",
       "1         a          3\n",
       "2      this          1\n",
       "3        of          1\n",
       "4      that          1\n",
       "5       has          1\n",
       "6       and          1\n",
       "7        an          1\n",
       "8        to          1\n",
       "9       the          1"
      ]
     },
     "execution_count": 116,
     "metadata": {},
     "output_type": "execute_result"
    }
   ],
   "source": [
    "df"
   ]
  },
  {
   "cell_type": "code",
   "execution_count": 119,
   "metadata": {},
   "outputs": [
    {
     "data": {
      "image/png": "[encoded data removed]",
      "text/plain": [
       "<Figure size 432x288 with 1 Axes>"
      ]
     },
     "metadata": {
      "needs_background": "light"
     },
     "output_type": "display_data"
    }
   ],
   "source": [
    "import matplotlib.pyplot as plt\n",
    "plt.bar(df['stopwords'],df['frequency'])\n",
    "plt.xlabel('stopwords')\n",
    "plt.ylabel('frequency')\n",
    "plt.show()"
   ]
  },
  {
   "cell_type": "markdown",
   "metadata": {},
   "source": [
    "# 3.Write a program to enter a string from user and perform following tasks\n",
    "## •Write a python functionnamed “Lemmatize”which returns a string after lemmatizing the string.\n",
    "## •Write a python functionnamed “Stemmed” which returns a string after stemming the string. (Use any stemmer of your preference)\n",
    "## •Print all the words along with their lemmatized and stemmed form using theabove functions \n",
    "##  •Save these results in a csv file having 3 columns"
   ]
  },
  {
   "cell_type": "code",
   "execution_count": 120,
   "metadata": {},
   "outputs": [],
   "source": [
    "from nltk.stem import WordNetLemmatizer"
   ]
  },
  {
   "cell_type": "code",
   "execution_count": 147,
   "metadata": {},
   "outputs": [],
   "source": [
    "text3='he corpora  better and pythons rocks'"
   ]
  },
  {
   "cell_type": "code",
   "execution_count": 148,
   "metadata": {},
   "outputs": [],
   "source": [
    "tok=word_tokenize(text3)"
   ]
  },
  {
   "cell_type": "code",
   "execution_count": 149,
   "metadata": {},
   "outputs": [],
   "source": [
    "lem=WordNetLemmatizer()"
   ]
  },
  {
   "cell_type": "code",
   "execution_count": 173,
   "metadata": {},
   "outputs": [],
   "source": [
    "le=[]\n",
    "def lemmatized(t):\n",
    "    for i in t:\n",
    "        le.append(lem.lemmatize(i))\n",
    "        print(lem.lemmatize(i))"
   ]
  },
  {
   "cell_type": "code",
   "execution_count": 174,
   "metadata": {},
   "outputs": [
    {
     "name": "stdout",
     "output_type": "stream",
     "text": [
      "he\n",
      "corpus\n",
      "better\n",
      "and\n",
      "python\n",
      "rock\n"
     ]
    }
   ],
   "source": [
    "lemmatized(tok)"
   ]
  },
  {
   "cell_type": "code",
   "execution_count": 158,
   "metadata": {},
   "outputs": [],
   "source": [
    "dfa=pd.DataFrame()"
   ]
  },
  {
   "cell_type": "code",
   "execution_count": 159,
   "metadata": {},
   "outputs": [],
   "source": [
    "dfa['Orignal Word']=tok\n",
    "dfa['Lemmatized Form']=le"
   ]
  },
  {
   "cell_type": "code",
   "execution_count": 161,
   "metadata": {},
   "outputs": [
    {
     "data": {
      "text/html": [
       "<div>\n",
       "<style scoped>\n",
       "    .dataframe tbody tr th:only-of-type {\n",
       "        vertical-align: middle;\n",
       "    }\n",
       "\n",
       "    .dataframe tbody tr th {\n",
       "        vertical-align: top;\n",
       "    }\n",
       "\n",
       "    .dataframe thead th {\n",
       "        text-align: right;\n",
       "    }\n",
       "</style>\n",
       "<table border=\"1\" class=\"dataframe\">\n",
       "  <thead>\n",
       "    <tr style=\"text-align: right;\">\n",
       "      <th></th>\n",
       "      <th>Orignal Word</th>\n",
       "      <th>Lemmatized Form</th>\n",
       "    </tr>\n",
       "  </thead>\n",
       "  <tbody>\n",
       "    <tr>\n",
       "      <th>0</th>\n",
       "      <td>he</td>\n",
       "      <td>he</td>\n",
       "    </tr>\n",
       "    <tr>\n",
       "      <th>1</th>\n",
       "      <td>corpora</td>\n",
       "      <td>corpus</td>\n",
       "    </tr>\n",
       "    <tr>\n",
       "      <th>2</th>\n",
       "      <td>better</td>\n",
       "      <td>better</td>\n",
       "    </tr>\n",
       "    <tr>\n",
       "      <th>3</th>\n",
       "      <td>and</td>\n",
       "      <td>and</td>\n",
       "    </tr>\n",
       "    <tr>\n",
       "      <th>4</th>\n",
       "      <td>pythons</td>\n",
       "      <td>python</td>\n",
       "    </tr>\n",
       "    <tr>\n",
       "      <th>5</th>\n",
       "      <td>rocks</td>\n",
       "      <td>rock</td>\n",
       "    </tr>\n",
       "  </tbody>\n",
       "</table>\n",
       "</div>"
      ],
      "text/plain": [
       "  Orignal Word Lemmatized Form\n",
       "0           he              he\n",
       "1      corpora          corpus\n",
       "2       better          better\n",
       "3          and             and\n",
       "4      pythons          python\n",
       "5        rocks            rock"
      ]
     },
     "execution_count": 161,
     "metadata": {},
     "output_type": "execute_result"
    }
   ],
   "source": [
    "dfa"
   ]
  },
  {
   "cell_type": "code",
   "execution_count": 165,
   "metadata": {},
   "outputs": [
    {
     "name": "stdout",
     "output_type": "stream",
     "text": [
      "he\n",
      "corpora\n",
      "better\n",
      "and\n",
      "python\n",
      "rock\n"
     ]
    }
   ],
   "source": [
    "from nltk.stem import PorterStemmer\n",
    "ste=[]\n",
    "ps=PorterStemmer()\n",
    "def stemmed(example_words):\n",
    "    for w in example_words:\n",
    "        ste.append(ps.stem(w))\n",
    "        print(ps.stem(w))\n",
    "stemmed(tok)"
   ]
  },
  {
   "cell_type": "code",
   "execution_count": 167,
   "metadata": {},
   "outputs": [],
   "source": [
    "dfa['Stemmed Form']=ste"
   ]
  },
  {
   "cell_type": "code",
   "execution_count": 168,
   "metadata": {},
   "outputs": [
    {
     "data": {
      "text/html": [
       "<div>\n",
       "<style scoped>\n",
       "    .dataframe tbody tr th:only-of-type {\n",
       "        vertical-align: middle;\n",
       "    }\n",
       "\n",
       "    .dataframe tbody tr th {\n",
       "        vertical-align: top;\n",
       "    }\n",
       "\n",
       "    .dataframe thead th {\n",
       "        text-align: right;\n",
       "    }\n",
       "</style>\n",
       "<table border=\"1\" class=\"dataframe\">\n",
       "  <thead>\n",
       "    <tr style=\"text-align: right;\">\n",
       "      <th></th>\n",
       "      <th>Orignal Word</th>\n",
       "      <th>Lemmatized Form</th>\n",
       "      <th>Stemmed Form</th>\n",
       "    </tr>\n",
       "  </thead>\n",
       "  <tbody>\n",
       "    <tr>\n",
       "      <th>0</th>\n",
       "      <td>he</td>\n",
       "      <td>he</td>\n",
       "      <td>he</td>\n",
       "    </tr>\n",
       "    <tr>\n",
       "      <th>1</th>\n",
       "      <td>corpora</td>\n",
       "      <td>corpus</td>\n",
       "      <td>corpora</td>\n",
       "    </tr>\n",
       "    <tr>\n",
       "      <th>2</th>\n",
       "      <td>better</td>\n",
       "      <td>better</td>\n",
       "      <td>better</td>\n",
       "    </tr>\n",
       "    <tr>\n",
       "      <th>3</th>\n",
       "      <td>and</td>\n",
       "      <td>and</td>\n",
       "      <td>and</td>\n",
       "    </tr>\n",
       "    <tr>\n",
       "      <th>4</th>\n",
       "      <td>pythons</td>\n",
       "      <td>python</td>\n",
       "      <td>python</td>\n",
       "    </tr>\n",
       "    <tr>\n",
       "      <th>5</th>\n",
       "      <td>rocks</td>\n",
       "      <td>rock</td>\n",
       "      <td>rock</td>\n",
       "    </tr>\n",
       "  </tbody>\n",
       "</table>\n",
       "</div>"
      ],
      "text/plain": [
       "  Orignal Word Lemmatized Form Stemmed Form\n",
       "0           he              he           he\n",
       "1      corpora          corpus      corpora\n",
       "2       better          better       better\n",
       "3          and             and          and\n",
       "4      pythons          python       python\n",
       "5        rocks            rock         rock"
      ]
     },
     "execution_count": 168,
     "metadata": {},
     "output_type": "execute_result"
    }
   ],
   "source": [
    "dfa"
   ]
  },
  {
   "cell_type": "code",
   "execution_count": 169,
   "metadata": {},
   "outputs": [],
   "source": [
    "dfa.to_csv('file.csv')"
   ]
  },
  {
   "cell_type": "markdown",
   "metadata": {},
   "source": [
    "# .Create a python file named “PreProcess” and perform the following tasks.\n",
    "## •Copy the function “Tokenize” in this file from question \n",
    "## 1•Copy thefunction “RemoveStopWords” in this file from question 2•Copy the function “Lemmatize” in this file from question \n",
    "## 3Create a function named “Refine” which accepts a string and call the above \n",
    "# 3 functions in the same order i.e. first Tokenize then RemoveStopWords then Lemmatize"
   ]
  },
  {
   "cell_type": "code",
   "execution_count": 171,
   "metadata": {},
   "outputs": [],
   "source": [
    "def Tokenized(text):  \n",
    "    tok=word_tokenize(text)\n",
    "    return tok"
   ]
  },
  {
   "cell_type": "code",
   "execution_count": 172,
   "metadata": {},
   "outputs": [],
   "source": [
    "def RemoveStopWords(text):\n",
    "    return [word for word in text.split() if word.lower() \n",
    "            not in stopwords.words('english')]"
   ]
  },
  {
   "cell_type": "code",
   "execution_count": 175,
   "metadata": {},
   "outputs": [],
   "source": [
    "def lemmatized(t):\n",
    "    for i in t:\n",
    "        return lem.lemmatize(i)"
   ]
  },
  {
   "cell_type": "code",
   "execution_count": 176,
   "metadata": {},
   "outputs": [],
   "source": [
    "def Refine(realtext):\n",
    "    to=Tokenized(realtext)\n",
    "    fo=RemoveStopWords(to)\n",
    "    zo=lemmatized(t)\n",
    "    "
   ]
  },
  {
   "cell_type": "code",
   "execution_count": null,
   "metadata": {},
   "outputs": [],
   "source": []
  }
 ],
 "metadata": {
  "kernelspec": {
   "display_name": "Python 3",
   "language": "python",
   "name": "python3"
  },
  "language_info": {
   "codemirror_mode": {
    "name": "ipython",
    "version": 3
   },
   "file_extension": ".py",
   "mimetype": "text/x-python",
   "name": "python",
   "nbconvert_exporter": "python",
   "pygments_lexer": "ipython3",
   "version": "3.6.9"
  }
 },
 "nbformat": 4,
 "nbformat_minor": 4
}
