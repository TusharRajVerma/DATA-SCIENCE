{
 "cells": [
  {
   "cell_type": "markdown",
   "metadata": {},
   "source": [
    "# 1.Write code snippets in python to perform the following tasks\n",
    "## Print your current working directory\n",
    "## Create a new directory on your desktop named: “Text Mining and NLP”\n",
    "## Make “Text Mining and NLP” your current working directory"
   ]
  },
  {
   "cell_type": "code",
   "execution_count": 1,
   "metadata": {},
   "outputs": [
    {
     "data": {
      "text/plain": [
       "'/home/tushar/Documents'"
      ]
     },
     "execution_count": 1,
     "metadata": {},
     "output_type": "execute_result"
    }
   ],
   "source": [
    "pwd"
   ]
  },
  {
   "cell_type": "code",
   "execution_count": 2,
   "metadata": {},
   "outputs": [
    {
     "name": "stdout",
     "output_type": "stream",
     "text": [
      "mkdir: cannot create directory ‘TextMiningandNLP’: File exists\r\n"
     ]
    }
   ],
   "source": [
    "mkdir TextMiningandNLP"
   ]
  },
  {
   "cell_type": "code",
   "execution_count": 3,
   "metadata": {},
   "outputs": [
    {
     "name": "stdout",
     "output_type": "stream",
     "text": [
      " assignments.odt                              Macbeth-ArticlesRemoved.txt\r\n",
      "\u001b[0m\u001b[01;34m'Audio Book - Statistics for Data Science'\u001b[0m/   Macbeth-punctuationsRemoved.txt\r\n",
      " AWS.docx                                     Macbeth.txt\r\n",
      " AWS.pdf.odt                                  \u001b[01;34m__MACOSX\u001b[0m/\r\n",
      " \u001b[01;31mball.tar.gz\u001b[0m                                  mon.docx\r\n",
      " BDSOL.docx                                   MYSQL.docx\r\n",
      " DWH.docx                                     NLP-1.ipynb\r\n",
      " edusol.docx                                  pest.csv\r\n",
      "\u001b[01;34m'Employee Performance Project'\u001b[0m/               sag.txt\r\n",
      " ETL.docx                                     Sparksol.docx\r\n",
      " \u001b[01;35mFrequencyOfNamesOfEachAlphabet.png\u001b[0m           SQL1.docx\r\n",
      " Hadoopsol.doc                                test\r\n",
      " Hadoopsol.docx                               \u001b[01;34mTextMiningandNLP\u001b[0m/\r\n",
      " Implementation.doc                           Untitled1.ipynb\r\n",
      " kanth.odt                                    Untitled.ipynb\r\n",
      " m1.docx                                      \u001b[01;34mZoom\u001b[0m/\r\n"
     ]
    }
   ],
   "source": [
    "ls"
   ]
  },
  {
   "cell_type": "code",
   "execution_count": 4,
   "metadata": {},
   "outputs": [
    {
     "name": "stdout",
     "output_type": "stream",
     "text": [
      "/home/tushar/Documents/TextMiningandNLP\n"
     ]
    }
   ],
   "source": [
    "cd TextMiningandNLP"
   ]
  },
  {
   "cell_type": "code",
   "execution_count": 5,
   "metadata": {},
   "outputs": [
    {
     "data": {
      "text/plain": [
       "'/home/tushar/Documents/TextMiningandNLP'"
      ]
     },
     "execution_count": 5,
     "metadata": {},
     "output_type": "execute_result"
    }
   ],
   "source": [
    "pwd"
   ]
  },
  {
   "cell_type": "markdown",
   "metadata": {},
   "source": [
    "# 2. Write code snippets in python to perform the following tasks:\n",
    "## Create a text file named “Greetings.txt” and write “Welcome to Text Mining and\n",
    "## Natural Language Processing”\n",
    "## Move this file to the folder “Text Mining and NLP” which you created in ques 1\n",
    "## Rename this file to “Welcome.txt”"
   ]
  },
  {
   "cell_type": "code",
   "execution_count": 13,
   "metadata": {},
   "outputs": [
    {
     "name": "stdout",
     "output_type": "stream",
     "text": [
      "/home/tushar\n"
     ]
    }
   ],
   "source": [
    "cd"
   ]
  },
  {
   "cell_type": "code",
   "execution_count": 14,
   "metadata": {},
   "outputs": [],
   "source": [
    "mv Greetings.txt /home/tushar/Desktop/TextMiningandNLP/"
   ]
  },
  {
   "cell_type": "code",
   "execution_count": 15,
   "metadata": {},
   "outputs": [
    {
     "name": "stdout",
     "output_type": "stream",
     "text": [
      "/home/tushar/Desktop/TextMiningandNLP\n"
     ]
    }
   ],
   "source": [
    "cd Desktop/TextMiningandNLP/"
   ]
  },
  {
   "cell_type": "code",
   "execution_count": 16,
   "metadata": {},
   "outputs": [],
   "source": [
    "mv Greetings.txt Welcome.txt"
   ]
  },
  {
   "cell_type": "code",
   "execution_count": 17,
   "metadata": {},
   "outputs": [
    {
     "data": {
      "text/plain": [
       "54"
      ]
     },
     "execution_count": 17,
     "metadata": {},
     "output_type": "execute_result"
    }
   ],
   "source": [
    "my_text=\"Welcome to Text Mining and Natural Language Processing\"\n",
    "f=open('Welcome.txt',\"w+\")\n",
    "f.write(my_text)"
   ]
  },
  {
   "cell_type": "code",
   "execution_count": 18,
   "metadata": {},
   "outputs": [
    {
     "name": "stdout",
     "output_type": "stream",
     "text": [
      "Welcome.txt\r\n"
     ]
    }
   ],
   "source": [
    "ls"
   ]
  },
  {
   "cell_type": "markdown",
   "metadata": {},
   "source": [
    "# 3.You are given a docx file named “NLP.docx”. Perform the following tasks:\n",
    "## Use DOCX module to open the file and perform the following tasks:\n",
    "## How many paragraphs are there in the file?\n",
    "## For each paragraph, print the number of words it contains\n",
    "## Read the content from “Welcome.txt” file which you created in question\n",
    "## number 2 and make that content the first paragraph in “NLP.docx” file"
   ]
  },
  {
   "cell_type": "code",
   "execution_count": 19,
   "metadata": {},
   "outputs": [
    {
     "name": "stdout",
     "output_type": "stream",
     "text": [
      "/home/tushar\n"
     ]
    }
   ],
   "source": [
    "cd"
   ]
  },
  {
   "cell_type": "code",
   "execution_count": 20,
   "metadata": {},
   "outputs": [
    {
     "name": "stdout",
     "output_type": "stream",
     "text": [
      "/home/tushar/Downloads/698_m1_datasets_v1.0\n"
     ]
    }
   ],
   "source": [
    "cd /home/tushar/Downloads/698_m1_datasets_v1.0"
   ]
  },
  {
   "cell_type": "code",
   "execution_count": null,
   "metadata": {},
   "outputs": [],
   "source": [
    "pip install python-docx"
   ]
  },
  {
   "cell_type": "code",
   "execution_count": 22,
   "metadata": {},
   "outputs": [
    {
     "name": "stdout",
     "output_type": "stream",
     "text": [
      "26\n"
     ]
    }
   ],
   "source": [
    "import docx\n",
    "doc = docx.Document('NLP.docx')  # Creating word reader object.\n",
    "data = \"\"\n",
    "count=0\n",
    "fullText = []\n",
    "for para in doc.paragraphs:\n",
    "    fullText.append(para.text)\n",
    "    data = '\\n'.join(fullText)\n",
    "    count=count+1\n",
    "print(count)"
   ]
  },
  {
   "cell_type": "code",
   "execution_count": 27,
   "metadata": {},
   "outputs": [
    {
     "data": {
      "text/plain": [
       "<docx.text.paragraph.Paragraph at 0x7fe59e977dd8>"
      ]
     },
     "execution_count": 27,
     "metadata": {},
     "output_type": "execute_result"
    }
   ],
   "source": [
    "from docx import *\n",
    "doc.add_paragraph(my_text)"
   ]
  },
  {
   "cell_type": "code",
   "execution_count": 29,
   "metadata": {},
   "outputs": [],
   "source": [
    "for para in doc.paragraphs:\n",
    "    fullText.append(para.text)\n",
    "    data = '\\n'.join(fullText)\n",
    "    count=count+1"
   ]
  },
  {
   "cell_type": "code",
   "execution_count": 30,
   "metadata": {},
   "outputs": [
    {
     "name": "stdout",
     "output_type": "stream",
     "text": [
      "To the outside observer, Natural Language Processing (NLP) may seem futuristic.  a third of smartphone owners use their personal assistants regularly (a hallmark of NLP technologies), even though 95 percent have tried them at some point, according to Creative Strategies, a consultancy. However, Natural Language Processing advances continue in leaps and bounds, as Digital Neural Networks (DNN) and Machine Learning become more intricate. Both technologies enhance NLP technologies up to 30 percent.\n",
      "The Economist states, that this paradigm has shifted language technology from usable at a pinch to really rather good”. So, when Barclays, a British bank, offered an identification using a user’s voice and NLP, 84 percent of the users signed up within five months, indicating that consumers are jumping on the bandwagon and wanting more benefits from NLP.\n",
      "Natural Language Processing (NLP) has entered the mainstream and integrates with Big Data. Take the business traveler. Today, when he or she stays at a hotel, like , the customer can bypass the front desk when getting extra towels or ordering room service. Thanks to Amazon’s Echo and its use of NLP, a hotel concierge may no longer be necessary. In this new world, Big Data flows in the form of speech, a loop between hotel guest and computer All the guests have access to this technology.  Wynn Las Vegas has already added Amazon Echo devices to each of its 4,748 hotel rooms. As consumers become more familiar with NLP and its time savings benefits, they will be more likely to adopt Natural Language Processing in the home and office, for other tasks.\n",
      "What does NLP mean for Big Data? NLP will change everything, from Business Reporting and Data Analytics/Synthesis to Security and Data Governance. The future has arrived.\n",
      "What is Natural Language Processing (NLP)\n",
      " combines Artificial Intelligence (AI) and computational linguistics so that computers and humans can talk seamlessly. Think the bridge in Star Trek, where the crew and space ship’s computer talk with each other to explore and survive. NLP endeavors to bridge the divide between machines and people by enabling a computer to analyze what a user said (input speech recognition) and process what the user meant. This task has proven quite complex.\n",
      "To converse with humans, a program must understand syntax (grammar), semantics (word meaning), morphology (tense), pragmatics (conversation). The number of rules to track can seem overwhelming and explains why earlier attempts at NLP initially led to disappointing results.\n",
      " wrote that both the funders and eager researchers had often fooled themselves, and that “no simple, clear, sure knowledge is gained.” After that, funding and interest in language technology went into hibernation for two decades. Thanks to Charles Wayne, at America’s Defense Advanced Research Projects Agency during the 1980s, reframed the human computer linguistic problem through another approach, the “common task”.\n",
      "With a different system in place, NLP slowly improved moving from a cumbersome-rules based to a pattern learning based computer programming methodology. Siri appeared on the iPhone in 2011. In 2012, the new discovery of use of graphical processing units (GPU) improved digital neural networks and NLP.\n",
      "Now Google has released its own neural-net-based engine for eight language pairs, closing much of the quality gap between its old system and a human translator and fueling increasing interest in the technology. Computers today can already produce an eerie echo of human language if fed with the appropriate material.\n",
      "Using NLP to Communicate and Summarize Complex Big Data\n",
      "Business managers have a Big Data problem. They  and spreadsheets drowning in too much data and trying to compile it all together into meaningful information. Arria, a company based in London, has come up with a solution.  a form of Artificial Intelligence, specialized in communicating information which is extracted from complex data sources in natural language (i.e. as if written by a human).\n",
      "It literally takes an organization’s data and transforms it into language, not standard computer-generated text that is overly technical and difficult to read, but natural human language that reads like a literate and well-educated person wrote it.\n",
      "Arria’s software can turn a spreadsheet full of data, that is dragged and dropped automatically into a written description of the contents, complete with trends, essentially providing business reports. The Arria NLG Platform has achieved this through two main elements: an analytics component that is programmed to embody the expert knowledge of the domain in which it operates; and, a natural language generation component, which embodies the skill required to communicate information articulately using natural language.\n",
      "In , Aria announced the private beta launch of Articulator Lite, a Cloud-based toolkit that allows users to build their own applications that create content from data. What does this mean? Matt Gould, Arria’s Chief Strategy Officer, likes to think Arria will free Chief Financial Officers from having to write up the same old routine analyses for the board, giving them time to develop more creative approaches. Now computers allow an enterprise to analyze all that information and present it back to whatever human needs it, for whatever reason, in actual written or natural language.\n",
      "Using NLP to Turn Language into Useful Data\n",
      " technology built on 200 million text pages, encyclopedias, dictionaries, thesauri, taxonomies, ontologies, and other databases has gained traction. AI has helped data-rich companies such as America’s West-Coast tech giants organize much of the world’s information into interactive databases such as Google’s Knowledge Graph.\n",
      ", a Silicon Valley startup, answers questions phrased in natural language about a company’s business data. If a user wants to know which online ads resulted in the most sales in California last month, the software automatically translates the typed question into a database query. However, behind the scenes, a human working for Datalingvo, vets the query to correct mis-interpretations by the computer. Now NLP enthusiasts have a drive to develop a smarter software application than Google, perhaps one that better understands the context of a user’s question (e.g. knows that a person is a student needing information for a report vs a field expert).\n",
      "Natural Language Processing has much promise in Data Security as well.  cognitive phishing detection capability uses Machine Learning to help businesses detect a phishing site up to 250 percent faster than traditional methods.\n",
      "In addition, Watson for Cyber Security recently launched by IBM, uses Natural Language Processing to gain insights from security documents, aiding Cyber Security in organizations. , uses around 200 parameters to identifying a speaker, providing access. The software is probably more secure than a fingerprint, says Brett Beranek, a senior manager at the company.\n",
      "With NLP advances in security, consumers will pay by the sound of their voices. Alipay, a ubiquitous mobile payments service in China uses a chatbot system, adept at Deep Learning and created by Ant, to carry on conversations and provide answers. With cutting-edge advances in NLP, data security in the financial industry will continue to see substantial changes ahead.\n",
      "Natural Language Processing and the Future\n",
      "Advancements in NLP have implications in Data Governance.  copious amounts of data from users, raising important legal issues about data ownership, privacy, and security. will take over more control of what we see and do, but big brother isn’t the government, it’s the big tech corporations: Google, Microsoft, Facebook, Amazon, and others. Governments, to be effective, will need to develop new regulations around how data gathered and disseminated through NLP. Especially where NLP will be tied to financial gain.\n",
      "An  is already piloting NLP  (in combination with RPA) to digitize its sourcing approach for its long-tail spend – the long list of small purchases that together may account for only a few percentage points of the budget. It uses using Natural Language Processing to interpret free-form text and match order requirements to groups of suppliers, cuing the procurement robot to compare bids and make a purchase. This could change business across a multiple of industries. Organizations around the world will need to be ready to benefit from NLP’s presence.\n",
      "NLP technology will continue to gain momentum. If you get into a car accident  in the near future, you’ll be able to pull out your smartphone, take a photo, and file an insurance claim with an AI system. MIT’s  develops Data Science methods, primarily based on Natural Language Processing, network science, and Machine Learning – towards mapping and analyzing social systems, enabling new forms of human networks for positive change.\n",
      "Already the Media Lab’s Cortico provides , advocacy and nonprofit organizations, and community influencers tools and programs to connect with their audiences on greater common ground. Those with injuries or disabilities that make it hard to write will benefit and use machine translation based on NLP.  Natural Language Processing has come to transform business and its impact will only increase.\n",
      "To the outside observer, Natural Language Processing (NLP) may seem futuristic.  a third of smartphone owners use their personal assistants regularly (a hallmark of NLP technologies), even though 95 percent have tried them at some point, according to Creative Strategies, a consultancy. However, Natural Language Processing advances continue in leaps and bounds, as Digital Neural Networks (DNN) and Machine Learning become more intricate. Both technologies enhance NLP technologies up to 30 percent.\n",
      "The Economist states, that this paradigm has shifted language technology from usable at a pinch to really rather good”. So, when Barclays, a British bank, offered an identification using a user’s voice and NLP, 84 percent of the users signed up within five months, indicating that consumers are jumping on the bandwagon and wanting more benefits from NLP.\n",
      "Natural Language Processing (NLP) has entered the mainstream and integrates with Big Data. Take the business traveler. Today, when he or she stays at a hotel, like , the customer can bypass the front desk when getting extra towels or ordering room service. Thanks to Amazon’s Echo and its use of NLP, a hotel concierge may no longer be necessary. In this new world, Big Data flows in the form of speech, a loop between hotel guest and computer All the guests have access to this technology.  Wynn Las Vegas has already added Amazon Echo devices to each of its 4,748 hotel rooms. As consumers become more familiar with NLP and its time savings benefits, they will be more likely to adopt Natural Language Processing in the home and office, for other tasks.\n",
      "What does NLP mean for Big Data? NLP will change everything, from Business Reporting and Data Analytics/Synthesis to Security and Data Governance. The future has arrived.\n",
      "What is Natural Language Processing (NLP)\n",
      " combines Artificial Intelligence (AI) and computational linguistics so that computers and humans can talk seamlessly. Think the bridge in Star Trek, where the crew and space ship’s computer talk with each other to explore and survive. NLP endeavors to bridge the divide between machines and people by enabling a computer to analyze what a user said (input speech recognition) and process what the user meant. This task has proven quite complex.\n",
      "To converse with humans, a program must understand syntax (grammar), semantics (word meaning), morphology (tense), pragmatics (conversation). The number of rules to track can seem overwhelming and explains why earlier attempts at NLP initially led to disappointing results.\n",
      " wrote that both the funders and eager researchers had often fooled themselves, and that “no simple, clear, sure knowledge is gained.” After that, funding and interest in language technology went into hibernation for two decades. Thanks to Charles Wayne, at America’s Defense Advanced Research Projects Agency during the 1980s, reframed the human computer linguistic problem through another approach, the “common task”.\n",
      "With a different system in place, NLP slowly improved moving from a cumbersome-rules based to a pattern learning based computer programming methodology. Siri appeared on the iPhone in 2011. In 2012, the new discovery of use of graphical processing units (GPU) improved digital neural networks and NLP.\n",
      "Now Google has released its own neural-net-based engine for eight language pairs, closing much of the quality gap between its old system and a human translator and fueling increasing interest in the technology. Computers today can already produce an eerie echo of human language if fed with the appropriate material.\n",
      "Using NLP to Communicate and Summarize Complex Big Data\n",
      "Business managers have a Big Data problem. They  and spreadsheets drowning in too much data and trying to compile it all together into meaningful information. Arria, a company based in London, has come up with a solution.  a form of Artificial Intelligence, specialized in communicating information which is extracted from complex data sources in natural language (i.e. as if written by a human).\n",
      "It literally takes an organization’s data and transforms it into language, not standard computer-generated text that is overly technical and difficult to read, but natural human language that reads like a literate and well-educated person wrote it.\n",
      "Arria’s software can turn a spreadsheet full of data, that is dragged and dropped automatically into a written description of the contents, complete with trends, essentially providing business reports. The Arria NLG Platform has achieved this through two main elements: an analytics component that is programmed to embody the expert knowledge of the domain in which it operates; and, a natural language generation component, which embodies the skill required to communicate information articulately using natural language.\n",
      "In , Aria announced the private beta launch of Articulator Lite, a Cloud-based toolkit that allows users to build their own applications that create content from data. What does this mean? Matt Gould, Arria’s Chief Strategy Officer, likes to think Arria will free Chief Financial Officers from having to write up the same old routine analyses for the board, giving them time to develop more creative approaches. Now computers allow an enterprise to analyze all that information and present it back to whatever human needs it, for whatever reason, in actual written or natural language.\n",
      "Using NLP to Turn Language into Useful Data\n",
      " technology built on 200 million text pages, encyclopedias, dictionaries, thesauri, taxonomies, ontologies, and other databases has gained traction. AI has helped data-rich companies such as America’s West-Coast tech giants organize much of the world’s information into interactive databases such as Google’s Knowledge Graph.\n",
      ", a Silicon Valley startup, answers questions phrased in natural language about a company’s business data. If a user wants to know which online ads resulted in the most sales in California last month, the software automatically translates the typed question into a database query. However, behind the scenes, a human working for Datalingvo, vets the query to correct mis-interpretations by the computer. Now NLP enthusiasts have a drive to develop a smarter software application than Google, perhaps one that better understands the context of a user’s question (e.g. knows that a person is a student needing information for a report vs a field expert).\n",
      "Natural Language Processing has much promise in Data Security as well.  cognitive phishing detection capability uses Machine Learning to help businesses detect a phishing site up to 250 percent faster than traditional methods.\n",
      "In addition, Watson for Cyber Security recently launched by IBM, uses Natural Language Processing to gain insights from security documents, aiding Cyber Security in organizations. , uses around 200 parameters to identifying a speaker, providing access. The software is probably more secure than a fingerprint, says Brett Beranek, a senior manager at the company.\n",
      "With NLP advances in security, consumers will pay by the sound of their voices. Alipay, a ubiquitous mobile payments service in China uses a chatbot system, adept at Deep Learning and created by Ant, to carry on conversations and provide answers. With cutting-edge advances in NLP, data security in the financial industry will continue to see substantial changes ahead.\n",
      "Natural Language Processing and the Future\n",
      "Advancements in NLP have implications in Data Governance.  copious amounts of data from users, raising important legal issues about data ownership, privacy, and security. will take over more control of what we see and do, but big brother isn’t the government, it’s the big tech corporations: Google, Microsoft, Facebook, Amazon, and others. Governments, to be effective, will need to develop new regulations around how data gathered and disseminated through NLP. Especially where NLP will be tied to financial gain.\n",
      "An  is already piloting NLP  (in combination with RPA) to digitize its sourcing approach for its long-tail spend – the long list of small purchases that together may account for only a few percentage points of the budget. It uses using Natural Language Processing to interpret free-form text and match order requirements to groups of suppliers, cuing the procurement robot to compare bids and make a purchase. This could change business across a multiple of industries. Organizations around the world will need to be ready to benefit from NLP’s presence.\n",
      "NLP technology will continue to gain momentum. If you get into a car accident  in the near future, you’ll be able to pull out your smartphone, take a photo, and file an insurance claim with an AI system. MIT’s  develops Data Science methods, primarily based on Natural Language Processing, network science, and Machine Learning – towards mapping and analyzing social systems, enabling new forms of human networks for positive change.\n",
      "Already the Media Lab’s Cortico provides , advocacy and nonprofit organizations, and community influencers tools and programs to connect with their audiences on greater common ground. Those with injuries or disabilities that make it hard to write will benefit and use machine translation based on NLP.  Natural Language Processing has come to transform business and its impact will only increase.\n",
      "Welcome to Text Mining and Natural Language Processing\n"
     ]
    }
   ],
   "source": [
    "print(data)"
   ]
  },
  {
   "cell_type": "markdown",
   "metadata": {},
   "source": [
    "# 4.You are given a csv file named “EmployeeDetails.csv”. Perform the following tasks:"
   ]
  },
  {
   "cell_type": "markdown",
   "metadata": {},
   "source": [
    "# Use pandas module to read the csv file"
   ]
  },
  {
   "cell_type": "code",
   "execution_count": 67,
   "metadata": {},
   "outputs": [],
   "source": [
    "import pandas as pd\n",
    "df=pd.read_csv('EmployeeDetails.csv')"
   ]
  },
  {
   "cell_type": "code",
   "execution_count": 68,
   "metadata": {},
   "outputs": [
    {
     "data": {
      "text/html": [
       "<div>\n",
       "<style scoped>\n",
       "    .dataframe tbody tr th:only-of-type {\n",
       "        vertical-align: middle;\n",
       "    }\n",
       "\n",
       "    .dataframe tbody tr th {\n",
       "        vertical-align: top;\n",
       "    }\n",
       "\n",
       "    .dataframe thead th {\n",
       "        text-align: right;\n",
       "    }\n",
       "</style>\n",
       "<table border=\"1\" class=\"dataframe\">\n",
       "  <thead>\n",
       "    <tr style=\"text-align: right;\">\n",
       "      <th></th>\n",
       "      <th>Name</th>\n",
       "      <th>Age</th>\n",
       "      <th>Salary</th>\n",
       "    </tr>\n",
       "  </thead>\n",
       "  <tbody>\n",
       "    <tr>\n",
       "      <th>0</th>\n",
       "      <td>Arjun singh</td>\n",
       "      <td>24</td>\n",
       "      <td>10000</td>\n",
       "    </tr>\n",
       "    <tr>\n",
       "      <th>1</th>\n",
       "      <td>Vibhor Jha</td>\n",
       "      <td>26</td>\n",
       "      <td>25000</td>\n",
       "    </tr>\n",
       "    <tr>\n",
       "      <th>2</th>\n",
       "      <td>Yoshita Debnath</td>\n",
       "      <td>23</td>\n",
       "      <td>15000</td>\n",
       "    </tr>\n",
       "    <tr>\n",
       "      <th>3</th>\n",
       "      <td>Abhitesh Setia</td>\n",
       "      <td>25</td>\n",
       "      <td>18000</td>\n",
       "    </tr>\n",
       "    <tr>\n",
       "      <th>4</th>\n",
       "      <td>Shaurya Nayar</td>\n",
       "      <td>26</td>\n",
       "      <td>30000</td>\n",
       "    </tr>\n",
       "    <tr>\n",
       "      <th>5</th>\n",
       "      <td>Disha Gupta</td>\n",
       "      <td>27</td>\n",
       "      <td>23000</td>\n",
       "    </tr>\n",
       "  </tbody>\n",
       "</table>\n",
       "</div>"
      ],
      "text/plain": [
       "             Name   Age  Salary\n",
       "0     Arjun singh    24   10000\n",
       "1       Vibhor Jha   26   25000\n",
       "2  Yoshita Debnath   23   15000\n",
       "3   Abhitesh Setia   25   18000\n",
       "4    Shaurya Nayar   26   30000\n",
       "5      Disha Gupta   27   23000"
      ]
     },
     "execution_count": 68,
     "metadata": {},
     "output_type": "execute_result"
    }
   ],
   "source": [
    "df"
   ]
  },
  {
   "cell_type": "markdown",
   "metadata": {},
   "source": [
    "# Split the name as first name and last name and make two separate columns as shown"
   ]
  },
  {
   "cell_type": "code",
   "execution_count": 70,
   "metadata": {},
   "outputs": [],
   "source": [
    "df['First Name']=0\n",
    "df['Last Name']=0"
   ]
  },
  {
   "cell_type": "code",
   "execution_count": 71,
   "metadata": {},
   "outputs": [
    {
     "name": "stderr",
     "output_type": "stream",
     "text": [
      "/home/tushar/.local/lib/python3.6/site-packages/ipykernel_launcher.py:4: SettingWithCopyWarning: \n",
      "A value is trying to be set on a copy of a slice from a DataFrame\n",
      "\n",
      "See the caveats in the documentation: https://pandas.pydata.org/pandas-docs/stable/user_guide/indexing.html#returning-a-view-versus-a-copy\n",
      "  after removing the cwd from sys.path.\n",
      "/home/tushar/.local/lib/python3.6/site-packages/pandas/core/indexing.py:671: SettingWithCopyWarning: \n",
      "A value is trying to be set on a copy of a slice from a DataFrame\n",
      "\n",
      "See the caveats in the documentation: https://pandas.pydata.org/pandas-docs/stable/user_guide/indexing.html#returning-a-view-versus-a-copy\n",
      "  self._setitem_with_indexer(indexer, value)\n",
      "/home/tushar/.local/lib/python3.6/site-packages/ipykernel_launcher.py:5: SettingWithCopyWarning: \n",
      "A value is trying to be set on a copy of a slice from a DataFrame\n",
      "\n",
      "See the caveats in the documentation: https://pandas.pydata.org/pandas-docs/stable/user_guide/indexing.html#returning-a-view-versus-a-copy\n",
      "  \"\"\"\n"
     ]
    }
   ],
   "source": [
    "for i in range(6):\n",
    "    li=[]\n",
    "    li=df['Name '][i].split(' ')\n",
    "    df['First Name'][i]=li[0]\n",
    "    df['Last Name'][i]=li[1]"
   ]
  },
  {
   "cell_type": "code",
   "execution_count": 72,
   "metadata": {},
   "outputs": [
    {
     "data": {
      "text/html": [
       "<div>\n",
       "<style scoped>\n",
       "    .dataframe tbody tr th:only-of-type {\n",
       "        vertical-align: middle;\n",
       "    }\n",
       "\n",
       "    .dataframe tbody tr th {\n",
       "        vertical-align: top;\n",
       "    }\n",
       "\n",
       "    .dataframe thead th {\n",
       "        text-align: right;\n",
       "    }\n",
       "</style>\n",
       "<table border=\"1\" class=\"dataframe\">\n",
       "  <thead>\n",
       "    <tr style=\"text-align: right;\">\n",
       "      <th></th>\n",
       "      <th>Name</th>\n",
       "      <th>Age</th>\n",
       "      <th>Salary</th>\n",
       "      <th>First Name</th>\n",
       "      <th>Last Name</th>\n",
       "    </tr>\n",
       "  </thead>\n",
       "  <tbody>\n",
       "    <tr>\n",
       "      <th>0</th>\n",
       "      <td>Arjun singh</td>\n",
       "      <td>24</td>\n",
       "      <td>10000</td>\n",
       "      <td>Arjun</td>\n",
       "      <td>singh</td>\n",
       "    </tr>\n",
       "    <tr>\n",
       "      <th>1</th>\n",
       "      <td>Vibhor Jha</td>\n",
       "      <td>26</td>\n",
       "      <td>25000</td>\n",
       "      <td>Vibhor</td>\n",
       "      <td>Jha</td>\n",
       "    </tr>\n",
       "    <tr>\n",
       "      <th>2</th>\n",
       "      <td>Yoshita Debnath</td>\n",
       "      <td>23</td>\n",
       "      <td>15000</td>\n",
       "      <td>Yoshita</td>\n",
       "      <td>Debnath</td>\n",
       "    </tr>\n",
       "    <tr>\n",
       "      <th>3</th>\n",
       "      <td>Abhitesh Setia</td>\n",
       "      <td>25</td>\n",
       "      <td>18000</td>\n",
       "      <td>Abhitesh</td>\n",
       "      <td>Setia</td>\n",
       "    </tr>\n",
       "    <tr>\n",
       "      <th>4</th>\n",
       "      <td>Shaurya Nayar</td>\n",
       "      <td>26</td>\n",
       "      <td>30000</td>\n",
       "      <td>Shaurya</td>\n",
       "      <td>Nayar</td>\n",
       "    </tr>\n",
       "    <tr>\n",
       "      <th>5</th>\n",
       "      <td>Disha Gupta</td>\n",
       "      <td>27</td>\n",
       "      <td>23000</td>\n",
       "      <td>Disha</td>\n",
       "      <td>Gupta</td>\n",
       "    </tr>\n",
       "  </tbody>\n",
       "</table>\n",
       "</div>"
      ],
      "text/plain": [
       "             Name   Age  Salary First Name Last Name\n",
       "0     Arjun singh    24   10000      Arjun     singh\n",
       "1       Vibhor Jha   26   25000     Vibhor       Jha\n",
       "2  Yoshita Debnath   23   15000    Yoshita   Debnath\n",
       "3   Abhitesh Setia   25   18000   Abhitesh     Setia\n",
       "4    Shaurya Nayar   26   30000    Shaurya     Nayar\n",
       "5      Disha Gupta   27   23000      Disha     Gupta"
      ]
     },
     "execution_count": 72,
     "metadata": {},
     "output_type": "execute_result"
    }
   ],
   "source": [
    "df"
   ]
  },
  {
   "cell_type": "markdown",
   "metadata": {},
   "source": [
    "# Delete “Name” Column"
   ]
  },
  {
   "cell_type": "code",
   "execution_count": 73,
   "metadata": {},
   "outputs": [],
   "source": [
    "df=df.drop(['Name '], axis=1)"
   ]
  },
  {
   "cell_type": "code",
   "execution_count": 74,
   "metadata": {},
   "outputs": [
    {
     "data": {
      "text/html": [
       "<div>\n",
       "<style scoped>\n",
       "    .dataframe tbody tr th:only-of-type {\n",
       "        vertical-align: middle;\n",
       "    }\n",
       "\n",
       "    .dataframe tbody tr th {\n",
       "        vertical-align: top;\n",
       "    }\n",
       "\n",
       "    .dataframe thead th {\n",
       "        text-align: right;\n",
       "    }\n",
       "</style>\n",
       "<table border=\"1\" class=\"dataframe\">\n",
       "  <thead>\n",
       "    <tr style=\"text-align: right;\">\n",
       "      <th></th>\n",
       "      <th>Age</th>\n",
       "      <th>Salary</th>\n",
       "      <th>First Name</th>\n",
       "      <th>Last Name</th>\n",
       "    </tr>\n",
       "  </thead>\n",
       "  <tbody>\n",
       "    <tr>\n",
       "      <th>0</th>\n",
       "      <td>24</td>\n",
       "      <td>10000</td>\n",
       "      <td>Arjun</td>\n",
       "      <td>singh</td>\n",
       "    </tr>\n",
       "    <tr>\n",
       "      <th>1</th>\n",
       "      <td>26</td>\n",
       "      <td>25000</td>\n",
       "      <td>Vibhor</td>\n",
       "      <td>Jha</td>\n",
       "    </tr>\n",
       "    <tr>\n",
       "      <th>2</th>\n",
       "      <td>23</td>\n",
       "      <td>15000</td>\n",
       "      <td>Yoshita</td>\n",
       "      <td>Debnath</td>\n",
       "    </tr>\n",
       "    <tr>\n",
       "      <th>3</th>\n",
       "      <td>25</td>\n",
       "      <td>18000</td>\n",
       "      <td>Abhitesh</td>\n",
       "      <td>Setia</td>\n",
       "    </tr>\n",
       "    <tr>\n",
       "      <th>4</th>\n",
       "      <td>26</td>\n",
       "      <td>30000</td>\n",
       "      <td>Shaurya</td>\n",
       "      <td>Nayar</td>\n",
       "    </tr>\n",
       "    <tr>\n",
       "      <th>5</th>\n",
       "      <td>27</td>\n",
       "      <td>23000</td>\n",
       "      <td>Disha</td>\n",
       "      <td>Gupta</td>\n",
       "    </tr>\n",
       "  </tbody>\n",
       "</table>\n",
       "</div>"
      ],
      "text/plain": [
       "   Age  Salary First Name Last Name\n",
       "0   24   10000      Arjun     singh\n",
       "1   26   25000     Vibhor       Jha\n",
       "2   23   15000    Yoshita   Debnath\n",
       "3   25   18000   Abhitesh     Setia\n",
       "4   26   30000    Shaurya     Nayar\n",
       "5   27   23000      Disha     Gupta"
      ]
     },
     "execution_count": 74,
     "metadata": {},
     "output_type": "execute_result"
    }
   ],
   "source": [
    "df"
   ]
  },
  {
   "cell_type": "markdown",
   "metadata": {},
   "source": [
    "# Increment the “Salary” Column by 10% of the existing value and save changes in same column only as shown"
   ]
  },
  {
   "cell_type": "code",
   "execution_count": 75,
   "metadata": {},
   "outputs": [],
   "source": [
    "df['Salary']=0.1*df['Salary']+df['Salary']"
   ]
  },
  {
   "cell_type": "code",
   "execution_count": 76,
   "metadata": {},
   "outputs": [
    {
     "data": {
      "text/html": [
       "<div>\n",
       "<style scoped>\n",
       "    .dataframe tbody tr th:only-of-type {\n",
       "        vertical-align: middle;\n",
       "    }\n",
       "\n",
       "    .dataframe tbody tr th {\n",
       "        vertical-align: top;\n",
       "    }\n",
       "\n",
       "    .dataframe thead th {\n",
       "        text-align: right;\n",
       "    }\n",
       "</style>\n",
       "<table border=\"1\" class=\"dataframe\">\n",
       "  <thead>\n",
       "    <tr style=\"text-align: right;\">\n",
       "      <th></th>\n",
       "      <th>Age</th>\n",
       "      <th>Salary</th>\n",
       "      <th>First Name</th>\n",
       "      <th>Last Name</th>\n",
       "    </tr>\n",
       "  </thead>\n",
       "  <tbody>\n",
       "    <tr>\n",
       "      <th>0</th>\n",
       "      <td>24</td>\n",
       "      <td>11000.0</td>\n",
       "      <td>Arjun</td>\n",
       "      <td>singh</td>\n",
       "    </tr>\n",
       "    <tr>\n",
       "      <th>1</th>\n",
       "      <td>26</td>\n",
       "      <td>27500.0</td>\n",
       "      <td>Vibhor</td>\n",
       "      <td>Jha</td>\n",
       "    </tr>\n",
       "    <tr>\n",
       "      <th>2</th>\n",
       "      <td>23</td>\n",
       "      <td>16500.0</td>\n",
       "      <td>Yoshita</td>\n",
       "      <td>Debnath</td>\n",
       "    </tr>\n",
       "    <tr>\n",
       "      <th>3</th>\n",
       "      <td>25</td>\n",
       "      <td>19800.0</td>\n",
       "      <td>Abhitesh</td>\n",
       "      <td>Setia</td>\n",
       "    </tr>\n",
       "    <tr>\n",
       "      <th>4</th>\n",
       "      <td>26</td>\n",
       "      <td>33000.0</td>\n",
       "      <td>Shaurya</td>\n",
       "      <td>Nayar</td>\n",
       "    </tr>\n",
       "    <tr>\n",
       "      <th>5</th>\n",
       "      <td>27</td>\n",
       "      <td>25300.0</td>\n",
       "      <td>Disha</td>\n",
       "      <td>Gupta</td>\n",
       "    </tr>\n",
       "  </tbody>\n",
       "</table>\n",
       "</div>"
      ],
      "text/plain": [
       "   Age   Salary First Name Last Name\n",
       "0   24  11000.0      Arjun     singh\n",
       "1   26  27500.0     Vibhor       Jha\n",
       "2   23  16500.0    Yoshita   Debnath\n",
       "3   25  19800.0   Abhitesh     Setia\n",
       "4   26  33000.0    Shaurya     Nayar\n",
       "5   27  25300.0      Disha     Gupta"
      ]
     },
     "execution_count": 76,
     "metadata": {},
     "output_type": "execute_result"
    }
   ],
   "source": [
    "df"
   ]
  },
  {
   "cell_type": "markdown",
   "metadata": {},
   "source": [
    "# Save changes to a new file named “Employee_Data.csv”"
   ]
  },
  {
   "cell_type": "code",
   "execution_count": 77,
   "metadata": {},
   "outputs": [],
   "source": [
    "df.to_csv('Employee_Data.csv')"
   ]
  },
  {
   "cell_type": "code",
   "execution_count": null,
   "metadata": {},
   "outputs": [],
   "source": []
  }
 ],
 "metadata": {
  "kernelspec": {
   "display_name": "Python 3",
   "language": "python",
   "name": "python3"
  },
  "language_info": {
   "codemirror_mode": {
    "name": "ipython",
    "version": 3
   },
   "file_extension": ".py",
   "mimetype": "text/x-python",
   "name": "python",
   "nbconvert_exporter": "python",
   "pygments_lexer": "ipython3",
   "version": "3.6.9"
  }
 },
 "nbformat": 4,
 "nbformat_minor": 4
}
